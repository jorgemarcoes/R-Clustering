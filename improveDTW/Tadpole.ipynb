{
  "cells": [
    {
      "cell_type": "markdown",
      "metadata": {
        "id": "view-in-github",
        "colab_type": "text"
      },
      "source": [
        "<a href=\"https://colab.research.google.com/github/jorgemarcoes/R-Clustering/blob/main/improveDTW/Tadpole.ipynb\" target=\"_parent\"><img src=\"https://colab.research.google.com/assets/colab-badge.svg\" alt=\"Open In Colab\"/></a>"
      ]
    },
    {
      "cell_type": "markdown",
      "source": [
        "# Libraries"
      ],
      "metadata": {
        "id": "bB4QqFOZnnQS"
      }
    },
    {
      "cell_type": "code",
      "execution_count": null,
      "metadata": {
        "id": "t5sO5TqMtax-"
      },
      "outputs": [],
      "source": [
        "!pip install aeon"
      ]
    },
    {
      "cell_type": "code",
      "execution_count": 2,
      "metadata": {
        "id": "-sBqy0PxkeWB"
      },
      "outputs": [],
      "source": [
        "import numpy as np\n",
        "import time\n",
        "from scipy.cluster.hierarchy import linkage, fcluster\n",
        "from aeon.datasets import load_classification\n",
        "\n",
        "from scipy.signal import resample\n",
        "\n",
        "from sklearn.metrics.cluster import rand_score\n",
        "from sklearn.metrics.cluster import adjusted_rand_score\n",
        "\n",
        "import pandas as pd\n",
        "from matplotlib import pyplot as plt\n"
      ]
    },
    {
      "cell_type": "markdown",
      "source": [
        "## Install R extensions"
      ],
      "metadata": {
        "id": "nTSHfyrx69Q-"
      }
    },
    {
      "cell_type": "code",
      "execution_count": 3,
      "metadata": {
        "id": "cEXZYOJopQ6U"
      },
      "outputs": [],
      "source": [
        "%load_ext rpy2.ipython"
      ]
    },
    {
      "cell_type": "code",
      "execution_count": null,
      "metadata": {
        "id": "Em5MS4nfp3bI"
      },
      "outputs": [],
      "source": [
        "#This may take about 10-15 minutes in Google Colab\n",
        "%%R\n",
        "install.packages(\"dtwclust\")\n",
        "library(dtwclust)\n"
      ]
    },
    {
      "cell_type": "markdown",
      "source": [
        "#Example of clustering with TADPole algoritmh:"
      ],
      "metadata": {
        "id": "YNLKSF6onsYB"
      }
    },
    {
      "cell_type": "code",
      "execution_count": 6,
      "metadata": {
        "id": "sq75npnutg1Y",
        "colab": {
          "base_uri": "https://localhost:8080/",
          "height": 398
        },
        "outputId": "a612198b-ab21-4df8-da53-6d4625b79776"
      },
      "outputs": [
        {
          "output_type": "stream",
          "name": "stdout",
          "text": [
            " Shape of X =  (200, 1, 275)\n",
            " Meta data =  {'problemname': 'trace', 'timestamps': False, 'missing': False, 'univariate': True, 'equallength': True, 'classlabel': True, 'targetlabel': False, 'class_values': ['1', '2', '3', '4']}\n",
            "$cl\n",
            "  [1] 4 1 2 2 4 3 3 4 4 3 2 2 2 2 2 4 2 1 2 2 3 3 2 1 4 1 2 3 1 3 4 4 2 3 1 4 4\n",
            " [38] 1 4 4 2 2 2 2 2 4 2 2 3 1 2 2 1 4 2 1 1 1 1 4 2 1 2 2 2 1 1 4 2 2 1 2 1 4\n",
            " [75] 2 3 4 4 2 2 4 2 4 2 2 2 3 4 1 4 2 2 2 4 2 4 1 3 4 1 2 4 2 1 4 2 1 1 1 3 2\n",
            "[112] 1 2 2 2 2 1 2 4 4 2 2 2 4 1 2 2 2 2 2 2 1 1 1 4 3 2 4 1 3 2 3 1 1 3 1 4 2\n",
            "[149] 2 2 1 2 1 4 2 4 2 4 2 2 2 4 2 1 3 4 1 4 1 4 4 1 2 2 4 1 1 2 2 1 1 4 3 4 1\n",
            "[186] 1 2 4 4 4 2 4 4 1 2 2 1 1 2 3\n",
            "\n",
            "$centroids\n",
            "[1] 35 44 49 90\n",
            "\n",
            "$distCalcPercentage\n",
            "[1] 13.35176\n",
            "\n"
          ]
        },
        {
          "output_type": "execute_result",
          "data": {
            "text/plain": [
              "<rpy2.robjects.vectors.ListVector object at 0x78c9a4d66500> [RTYPES.VECSXP]\n",
              "R classes: ('list',)\n",
              "[IntSexpVector, IntSexpVector, FloatSexpVector]\n",
              "  cl: <class 'rpy2.rinterface.IntSexpVector'>\n",
              "  <rpy2.rinterface.IntSexpVector object at 0x78c9a4d31c00> [RTYPES.INTSXP]\n",
              "  centroids: <class 'rpy2.rinterface.IntSexpVector'>\n",
              "  <rpy2.rinterface.IntSexpVector object at 0x78c9a4d32bc0> [RTYPES.INTSXP]\n",
              "  distCalcPercentage: <class 'rpy2.rinterface.FloatSexpVector'>\n",
              "  <rpy2.rinterface.FloatSexpVector object at 0x78c9d5989640> [RTYPES.REALSXP]"
            ],
            "text/html": [
              "\n",
              "        <span>ListVector with 3 elements.</span>\n",
              "        <table>\n",
              "        <tbody>\n",
              "        \n",
              "          <tr>\n",
              "            <th>\n",
              "            cl\n",
              "            </th>\n",
              "            <td>\n",
              "            <rpy2.rinterface.IntSexpVector object at 0x78c9a4d30e80> [RTYPES.INTSXP]\n",
              "            </td>\n",
              "          </tr>\n",
              "        \n",
              "          <tr>\n",
              "            <th>\n",
              "            centroids\n",
              "            </th>\n",
              "            <td>\n",
              "            <rpy2.rinterface.IntSexpVector object at 0x78c9a4d32bc0> [RTYPES.INTSXP]\n",
              "            </td>\n",
              "          </tr>\n",
              "        \n",
              "          <tr>\n",
              "            <th>\n",
              "            distCalcPercentage\n",
              "            </th>\n",
              "            <td>\n",
              "            <rpy2.rinterface.FloatSexpVector object at 0x78c9a5548480> [RTYPES.REALSXP]\n",
              "            </td>\n",
              "          </tr>\n",
              "        \n",
              "        </tbody>\n",
              "        </table>\n",
              "        "
            ]
          },
          "metadata": {},
          "execution_count": 6
        }
      ],
      "source": [
        "# Load UCR dataset called Trace dataset with aeon library\n",
        "X, y, meta_data = load_classification(\"Trace\")\n",
        "print(\" Shape of X = \", X.shape)\n",
        "print(\" Meta data = \", meta_data)\n",
        "data = np.squeeze(X)\n",
        "\n",
        "# Pass data to R\n",
        "%R -i data\n",
        "\n",
        "# Execute clustering\n",
        "%R result <- tadpole(data,window.size = 30,dc=1,k=4) #Trace Dataset has 4 classes\n",
        "\n",
        "%R print(result)"
      ]
    },
    {
      "cell_type": "markdown",
      "metadata": {
        "id": "Bx1w8tErkSF7"
      },
      "source": [
        "## Warping Functions"
      ]
    },
    {
      "cell_type": "code",
      "execution_count": 7,
      "metadata": {
        "id": "MwJQzZH41SQb"
      },
      "outputs": [],
      "source": [
        "def add_warping(T, p):\n",
        "    \"\"\"\n",
        "    Add warping to a time series T.\n",
        "\n",
        "    Parameters:\n",
        "    - T: The original time series with shape (Y,)\n",
        "    - p: Fraction of points to be removed\n",
        "\n",
        "    Returns:\n",
        "    - warped_T: The warped time series\n",
        "    \"\"\"\n",
        "\n",
        "    # Generate random indices\n",
        "    i = np.random.permutation(len(T))\n",
        "\n",
        "    # Sort and take only a fraction (1-p) of the indices\n",
        "    i = np.sort(i[:int((1-p)*len(T))])\n",
        "\n",
        "    # Resample the time series based on the selected indices\n",
        "    warped = resample(T[i], len(T))\n",
        "\n",
        "    # Smooth the resampled time series (optional and can be adjusted)\n",
        "    warped_smooth = np.convolve(warped, np.ones((2,))/2, mode='same')\n",
        "\n",
        "    return warped_smooth\n",
        "\n",
        "\n",
        "def generate_warped_dataset_and_PUA(D, M, add_random_warping):\n",
        "    \"\"\"\n",
        "    Generate a warped dataset and the corresponding pseudo user annotations (PUA).\n",
        "\n",
        "    Parameters:\n",
        "    - D: Original dataset with shape (num_instances, time_series_length).\n",
        "    - M: Amount of warping to add (proportion of points to be removed).\n",
        "    - add_random_warping: A function that takes in a time series and the warping amount M and returns a warped time series.\n",
        "\n",
        "    Returns:\n",
        "    - Dnew: Warped dataset of same shape as D.\n",
        "    - PUA: Pseudo user annotations, a list of tuples where each tuple contains indices of two time series that must be linked together.\n",
        "    \"\"\"\n",
        "\n",
        "    # Step 1: Arbitrarily shuffle the dataset to ensure it's not ordered in any specific way\n",
        "    shuffled_indices = np.random.permutation(D.shape[0])\n",
        "    Dnew = D[shuffled_indices]\n",
        "\n",
        "    # List to hold our pseudo user annotations\n",
        "    PUA = []\n",
        "\n",
        "    # Step 2: For every second data object, replace it with a warped version of the previous data object\n",
        "    for i in range(0, Dnew.shape[0] - 1, 2): # Loop through every even-indexed time series in steps of 2\n",
        "        Dnew[i+1] = add_random_warping(Dnew[i], M)\n",
        "\n",
        "        # Step 3: Annotate the two time series (the original and its warped version) as 'must-link'\n",
        "        PUA.append((i, i+1))\n",
        "\n",
        "    # Step 4 & 5: The function returns the new dataset Dnew (of same size as D) and the set of pseudo annotations PUA\n",
        "    return Dnew, PUA\n",
        "\n",
        "def evaluate_constraints(clustering_labels, PUA):\n",
        "    \"\"\"\n",
        "    Evaluate the proportion of constraints satisfied by the given clustering.\n",
        "\n",
        "    This function checks how many of the provided pair constraints (PUA)\n",
        "    have both data points in the same cluster, based on the given clustering labels.\n",
        "\n",
        "    Parameters:\n",
        "    - clustering_labels (list or array-like): Labels assigned to each data point after clustering.\n",
        "    - PUA (list of tuples): List of data point pairs that should be in the same cluster.\n",
        "                            Each tuple represents a 'must-link' constraint.\n",
        "\n",
        "    Returns:\n",
        "    - float: Proportion of 'must-link' constraints (from PUA) that are satisfied\n",
        "             by the given clustering. The value ranges between 0 (no constraints satisfied)\n",
        "             to 1 (all constraints satisfied).\n",
        "\n",
        "    Example:\n",
        "    If clustering_labels = [0, 1, 1, 2] and PUA = [(0,1), (1,2)], the return value is 0.5\n",
        "    because only the pair (1,2) is in the same cluster.\n",
        "    \"\"\"\n",
        "\n",
        "    # Initialize a counter for satisfied constraints\n",
        "    satisfied = 0\n",
        "\n",
        "    # Iterate over each pair in PUA\n",
        "    for (i, j) in PUA:\n",
        "        # If the two data points in the pair have the same cluster label\n",
        "        if clustering_labels[i] == clustering_labels[j]:\n",
        "            # Increment the satisfied counter\n",
        "            satisfied += 1\n",
        "\n",
        "    # Return the proportion of satisfied constraints\n",
        "    return satisfied / len(PUA)\n",
        "\n",
        "\n"
      ]
    },
    {
      "cell_type": "code",
      "source": [
        "#I get 2500 PUAs for the TwoPatterns dataset\n",
        "X, y, metadata = load_classification('TwoPatterns')\n",
        "X = X.squeeze()\n",
        "X_warped,PUA = generate_warped_dataset_and_PUA(X,0.3,add_warping)\n",
        "len(PUA)"
      ],
      "metadata": {
        "colab": {
          "base_uri": "https://localhost:8080/"
        },
        "id": "cJl2UE7Gv6q4",
        "outputId": "f7485e94-0e32-45dc-f884-0c4feb7b5fe3"
      },
      "execution_count": 14,
      "outputs": [
        {
          "output_type": "execute_result",
          "data": {
            "text/plain": [
              "2500"
            ]
          },
          "metadata": {},
          "execution_count": 14
        }
      ]
    },
    {
      "cell_type": "markdown",
      "source": [
        "### Example of warping on a sinusoidal function"
      ],
      "metadata": {
        "id": "wnuRFM9wue2b"
      }
    },
    {
      "cell_type": "code",
      "source": [
        "# Generate a sinusoidal signal\n",
        "x = np.linspace(0, 2 * np.pi, 1000)\n",
        "y = np.sin(x)\n",
        "\n",
        "# Apply the warping effect\n",
        "p = 0.8\n",
        "warped_y = add_warping(y, p)\n",
        "\n",
        "# Plot the original and warped signals\n",
        "plt.figure(figsize=(10, 4))\n",
        "plt.plot(x, y, label=\"Original Signal\")\n",
        "plt.legend()\n",
        "\n",
        "plt.plot(x, warped_y, label=\"Warped Signal\", color=\"red\")\n",
        "plt.legend()\n",
        "\n",
        "plt.tight_layout()\n",
        "plt.show()"
      ],
      "metadata": {
        "colab": {
          "base_uri": "https://localhost:8080/",
          "height": 407
        },
        "id": "T_LJBy8Yudhe",
        "outputId": "70eba166-ed60-409f-ee8f-254a0f522fa0"
      },
      "execution_count": 9,
      "outputs": [
        {
          "output_type": "display_data",
          "data": {
            "text/plain": [
              "<Figure size 1000x400 with 1 Axes>"
            ],
            "image/png": "[encoded data removed]"
          },
          "metadata": {}
        }
      ]
    },
    {
      "cell_type": "markdown",
      "metadata": {
        "id": "sywCFJm5krBX"
      },
      "source": [
        "## Experiments with Trace Dataset"
      ]
    },
    {
      "cell_type": "code",
      "execution_count": null,
      "metadata": {
        "id": "P6hvrrTKlHj7",
        "colab": {
          "base_uri": "https://localhost:8080/"
        },
        "outputId": "69605143-e529-4c22-a015-63d44cc08891"
      },
      "outputs": [
        {
          "output_type": "stream",
          "name": "stdout",
          "text": [
            "******* Dataset Trace **************\n",
            "Window: 1.000, Proportion satisfied: 0.98, ARI: 0.372, RI:0.749\n",
            "Window: 2.000, Proportion satisfied: 0.95, ARI: 0.405, RI:0.749\n",
            "Window: 3.000, Proportion satisfied: 0.98, ARI: 0.412, RI:0.751\n",
            "Window: 4.000, Proportion satisfied: 0.97, ARI: 0.406, RI:0.751\n",
            "Window: 5.000, Proportion satisfied: 0.98, ARI: 0.414, RI:0.753\n",
            "Window: 6.000, Proportion satisfied: 0.92, ARI: 0.495, RI:0.790\n",
            "Window: 7.000, Proportion satisfied: 0.89, ARI: 0.535, RI:0.806\n",
            "Window: 8.000, Proportion satisfied: 0.94, ARI: 0.459, RI:0.772\n",
            "Window: 9.000, Proportion satisfied: 0.94, ARI: 0.464, RI:0.774\n",
            "Window: 10.000, Proportion satisfied: 0.99, ARI: 0.450, RI:0.768\n",
            "Window: 11.000, Proportion satisfied: 1.00, ARI: 0.627, RI:0.843\n",
            "Window: 12.000, Proportion satisfied: 0.95, ARI: 0.627, RI:0.843\n",
            "Window: 13.000, Proportion satisfied: 0.96, ARI: 0.628, RI:0.844\n",
            "Window: 14.000, Proportion satisfied: 0.95, ARI: 0.626, RI:0.843\n",
            "Window: 15.000, Proportion satisfied: 0.85, ARI: 0.626, RI:0.843\n",
            "Window: 16.000, Proportion satisfied: 0.91, ARI: 0.518, RI:0.784\n",
            "Window: 17.000, Proportion satisfied: 0.93, ARI: 0.627, RI:0.843\n",
            "Window: 18.000, Proportion satisfied: 0.93, ARI: 0.627, RI:0.843\n",
            "Window: 19.000, Proportion satisfied: 0.93, ARI: 0.489, RI:0.749\n"
          ]
        }
      ],
      "source": [
        "results = []\n",
        "\n",
        "#configure the maximum window and step length\n",
        "max_window = 20\n",
        "step_len = 1\n",
        "warping = 0.3\n",
        "\n",
        "for dataset in ['Trace']: #We'll add a list of datasets later\n",
        "    # Load the dataset\n",
        "    X, y, metadata = load_classification(dataset)\n",
        "    X = X.squeeze()\n",
        "    %R -i X #pass X variable to R\n",
        "    n_clusters = len(metadata['class_values'])\n",
        "    %R -i n_clusters #pass n_clusters to R\n",
        "\n",
        "    #Generate warped dataset and PUA\n",
        "    warped_X,PUA = generate_warped_dataset_and_PUA(X,warping, add_warping)\n",
        "    %R -i warped_X\n",
        "\n",
        "    print('******* Dataset %s **************' % dataset)\n",
        "\n",
        "\n",
        "    # Loop windows\n",
        "    for i in np.arange(1, max_window, step_len):\n",
        "        window = i\n",
        "        %R -i window\n",
        "\n",
        "\n",
        "        ######### Calculate proportion of PUAs satisfied  #############\n",
        "        # Cluster warped time series\n",
        "        %R result <- tadpole(warped_X,window.size = window,dc=10,k=n_clusters)\n",
        "        labels_warped = %R result$cl\n",
        "\n",
        "\n",
        "        # Calculate proportion satisfied\n",
        "        prop_satisfied = evaluate_constraints(labels_warped, PUA)\n",
        "\n",
        "        ######### Evaluate clustering at given window (to compare it with the proportion of PUAs satisfied)  #############\n",
        "        %R result <- tadpole(X,window.size = window,dc=1,k=4)\n",
        "        labels_original = %R result$cl\n",
        "\n",
        "        #calculate ARI and RI:\n",
        "        ARI = adjusted_rand_score(y,labels_original)\n",
        "        RI = rand_score(y, labels_original)\n",
        "\n",
        "\n",
        "        # Append results to the list\n",
        "        results.append([dataset, window, prop_satisfied, ARI, RI])\n",
        "        # Print window with 4 decimal places and proportion satisfied\n",
        "        print('Window: %.3f, Proportion satisfied: %.2f, ARI: %.3f, RI:%.3f' % (window, prop_satisfied, ARI, RI))\n",
        "\n",
        "    # Convert results to a dataframe\n",
        "    results_prop = pd.DataFrame(results, columns=['dataset', 'window', 'prop_satisfied', 'ARI', 'RI'])\n",
        "\n",
        "    path='/content/drive/MyDrive/Doctorado/conv-23/Search optimal w for DTW/'\n",
        "    # Save results to a csv file. overwrite if already exists. Include warping in the name of the file:\n",
        "    results_prop.to_csv(path + 'results_tadpole_warping_%s.csv' % warping, index=False)\n",
        "\n",
        "\n"
      ]
    },
    {
      "cell_type": "markdown",
      "source": [
        "## Try different cuttoff distances in the optimal windows for Trace and TwoPatterns"
      ],
      "metadata": {
        "id": "W6zDaan7qMRu"
      }
    },
    {
      "cell_type": "code",
      "source": [
        "X, y, metadata = load_classification('Trace')\n",
        "X = X.squeeze()\n",
        "%R -i X\n",
        "n_clusters = len(metadata['class_values'])\n",
        "\n",
        "print('******* TRACE DATASET WITH OPTIMAL WINDOW **************' )\n",
        "\n",
        "\n",
        "for cutoff in range(1,20):\n",
        "\n",
        "  print('******* Cutoff distance %s **************' % cutoff)\n",
        "\n",
        "  %R -i cutoff\n",
        "  %R result <- TADPole(X,window.size = 7,dc=cutoff,k=4) #We use optimal window of 7 for Trace dataset according to the paper\n",
        "  labels_original = %R result$cl\n",
        "\n",
        "  #calculate ARI and RI:\n",
        "  ARI = adjusted_rand_score(y,labels_original)\n",
        "  RI = rand_score(y, labels_original)\n",
        "  print('RI:%.3f' % (RI))\n"
      ],
      "metadata": {
        "colab": {
          "base_uri": "https://localhost:8080/"
        },
        "id": "7l7TJQ2S-zJy",
        "outputId": "e039cfb2-8ba5-4aef-f115-c5d7fc9eaf68"
      },
      "execution_count": 16,
      "outputs": [
        {
          "output_type": "stream",
          "name": "stdout",
          "text": [
            "******* TRACE DATASET WITH OPTIMAL WINDOW **************\n",
            "******* Cutoff distance 1 **************\n",
            "RI:0.806\n",
            "******* Cutoff distance 2 **************\n",
            "RI:0.836\n",
            "******* Cutoff distance 3 **************\n",
            "RI:0.753\n",
            "******* Cutoff distance 4 **************\n",
            "RI:0.789\n",
            "******* Cutoff distance 5 **************\n",
            "RI:0.793\n",
            "******* Cutoff distance 6 **************\n",
            "RI:0.770\n",
            "******* Cutoff distance 7 **************\n",
            "RI:0.751\n",
            "******* Cutoff distance 8 **************\n",
            "RI:0.768\n",
            "******* Cutoff distance 9 **************\n",
            "RI:0.750\n",
            "******* Cutoff distance 10 **************\n",
            "RI:0.750\n",
            "******* Cutoff distance 11 **************\n",
            "RI:0.749\n",
            "******* Cutoff distance 12 **************\n",
            "RI:0.768\n",
            "******* Cutoff distance 13 **************\n",
            "RI:0.754\n",
            "******* Cutoff distance 14 **************\n",
            "RI:0.751\n",
            "******* Cutoff distance 15 **************\n",
            "RI:0.754\n",
            "******* Cutoff distance 16 **************\n",
            "RI:0.762\n",
            "******* Cutoff distance 17 **************\n",
            "RI:0.815\n",
            "******* Cutoff distance 18 **************\n",
            "RI:0.750\n",
            "******* Cutoff distance 19 **************\n",
            "RI:0.750\n"
          ]
        }
      ]
    },
    {
      "cell_type": "code",
      "source": [
        "X, y, metadata = load_classification('TwoPatterns')\n",
        "X = X.squeeze()\n",
        "%R -i X\n",
        "n_clusters = len(metadata['class_values'])\n",
        "%R -i n_clusters\n",
        "\n",
        "print('******* TWOPATTERNS DATASET WITH OPTIMAL WINDOW **************' )\n",
        "\n",
        "for cutoff in range(2,10): #For some values below 5 it returns an error\n",
        "\n",
        "  print('******* Cutoff distance %s **************' % cutoff)\n",
        "\n",
        "  %R -i cutoff\n",
        "  %R result <- TADPole(X,window.size = 8,dc=cutoff,k=n_clusters) #We use optimal window of 8 for TwoPatterns dataset according to the paper\n",
        "  labels_original = %R result$cl\n",
        "\n",
        "  #calculate ARI and RI:\n",
        "  ARI = adjusted_rand_score(y,labels_original)\n",
        "  RI = rand_score(y, labels_original)\n",
        "  print('RI:%.3f' % (RI))\n"
      ],
      "metadata": {
        "colab": {
          "base_uri": "https://localhost:8080/"
        },
        "id": "t2A8h_UlDkI8",
        "outputId": "01cf7fa2-e323-4b10-a9b6-b651b932d405"
      },
      "execution_count": 17,
      "outputs": [
        {
          "output_type": "stream",
          "name": "stdout",
          "text": [
            "******* TWOPATTERNS DATASET WITH OPTIMAL WINDOW **************\n",
            "******* Cutoff distance 2 **************\n",
            "RI:0.549\n",
            "******* Cutoff distance 3 **************\n",
            "RI:0.735\n",
            "******* Cutoff distance 4 **************\n",
            "RI:0.805\n",
            "******* Cutoff distance 5 **************\n",
            "RI:0.732\n",
            "******* Cutoff distance 6 **************\n",
            "RI:0.772\n",
            "******* Cutoff distance 7 **************\n",
            "RI:0.728\n",
            "******* Cutoff distance 8 **************\n",
            "RI:0.679\n",
            "******* Cutoff distance 9 **************\n",
            "RI:0.650\n"
          ]
        }
      ]
    },
    {
      "cell_type": "markdown",
      "source": [
        "# Full experiment"
      ],
      "metadata": {
        "id": "SJOwYgLXzL-0"
      }
    },
    {
      "cell_type": "code",
      "source": [
        "results = []\n",
        "\n",
        "#configure the maximum window and step length\n",
        "max_window = 20\n",
        "step_len = 1\n",
        "warping = 0.3\n",
        "\n",
        "for dataset in ['Trace']:\n",
        "    # Load the dataset\n",
        "    X, y, metadata = load_classification(dataset)\n",
        "    X = X.squeeze()\n",
        "    %R -i X\n",
        "    n_clusters = len(metadata['class_values'])\n",
        "\n",
        "    #Generate warped dataset and PUA\n",
        "    warped_X,PUA = generate_warped_dataset_and_PUA(X,warping, add_warping)\n",
        "    %R -i warped_X\n",
        "\n",
        "    print('******* Dataset %s **************' % dataset)\n",
        "\n",
        "\n",
        "    # Loop windows\n",
        "    for i in np.arange(1, max_window, step_len):\n",
        "        window = i\n",
        "        %R -i window\n",
        "\n",
        "\n",
        "        ######### Calculate proportion of PUAs satisfied  #############\n",
        "        # Cluster warped time series\n",
        "        %R result <- tadpole(warped_X,window.size = window,dc=10,k=4)\n",
        "        labels_warped = %R result$cl\n",
        "\n",
        "\n",
        "        # Calculate proportion satisfied\n",
        "        prop_satisfied = evaluate_constraints(labels_warped, PUA)\n",
        "\n",
        "        ######### Evaluate clustering at given window (to compare it with the proportion of PUAs satisfied)  #############\n",
        "        %R result <- tadpole(X,window.size = window,dc=1,k=4)\n",
        "        labels_original = %R result$cl\n",
        "\n",
        "        #calculate ARI and RI:\n",
        "        ARI = adjusted_rand_score(y,labels_original)\n",
        "        RI = rand_score(y, labels_original)\n",
        "\n",
        "\n",
        "        # Append results to the list\n",
        "        results.append([dataset, window, prop_satisfied, ARI, RI])\n",
        "        # Print window with 4 decimal places and proportion satisfied\n",
        "        print('Window: %.3f, Proportion satisfied: %.2f, ARI: %.3f, RI:%.3f' % (window, prop_satisfied, ARI, RI))\n",
        "\n",
        "    # Convert results to a dataframe\n",
        "    results_prop = pd.DataFrame(results, columns=['dataset', 'window', 'prop_satisfied', 'ARI', 'RI'])\n",
        "\n",
        "    path='/content/drive/MyDrive/Doctorado/conv-23/Search optimal w for DTW/'\n",
        "    # Save results to a csv file. overwrite if already exists. Include warping in the name of the file:\n",
        "    results_prop.to_csv(path + 'results_tadpole_warping_%s.csv' % warping, index=False)\n",
        "\n",
        "\n"
      ],
      "metadata": {
        "id": "r4-qbN8Q-pi8"
      },
      "execution_count": null,
      "outputs": []
    }
  ],
  "metadata": {
    "colab": {
      "provenance": [],
      "collapsed_sections": [
        "Bx1w8tErkSF7"
      ],
      "toc_visible": true,
      "machine_shape": "hm",
      "mount_file_id": "1rEjlrA-wZsz0yDff9wL-ww07yARjbVwd",
      "authorship_tag": "ABX9TyNuB6qB6cSZG6IJqZ75RxWx",
      "include_colab_link": true
    },
    "kernelspec": {
      "display_name": "Python 3",
      "name": "python3"
    },
    "language_info": {
      "name": "python"
    }
  },
  "nbformat": 4,
  "nbformat_minor": 0
}